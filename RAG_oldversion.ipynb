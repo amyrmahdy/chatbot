{
 "cells": [
  {
   "cell_type": "markdown",
   "metadata": {},
   "source": [
    "### v2 - RAG - Dorna-Llama3-8B-Instruct-Quantized"
   ]
  },
  {
   "cell_type": "code",
   "execution_count": 2,
   "metadata": {
    "scrolled": true
   },
   "outputs": [
    {
     "name": "stderr",
     "output_type": "stream",
     "text": [
      "/home/amyrmahdy/GitHub/chatbot/venv/lib/python3.12/site-packages/tqdm/auto.py:21: TqdmWarning: IProgress not found. Please update jupyter and ipywidgets. See https://ipywidgets.readthedocs.io/en/stable/user_install.html\n",
      "  from .autonotebook import tqdm as notebook_tqdm\n"
     ]
    }
   ],
   "source": [
    "import sys\n",
    "import time\n",
    "import random\n",
    "import chromadb\n",
    "from llama_cpp import Llama\n",
    "from chromadb.utils import embedding_functions\n",
    "from sentence_transformers import SentenceTransformer"
   ]
  },
  {
   "cell_type": "code",
   "execution_count": 3,
   "metadata": {
    "jupyter": {
     "source_hidden": true
    }
   },
   "outputs": [],
   "source": [
    "context1 = '''\n",
    "شرکت نواکلود سه سرویس اصلی ارائه می‌دهد:  \n",
    "1. نوااستورج (NovaStorage) – یک سرویس ذخیره‌سازی ابری که برای شرکت‌های بزرگ طراحی شده است و امکان رمزگذاری سرتاسری (E2EE) و پشتیبان‌گیری خودکار را دارد.  \n",
    "2. نواکامپیوتر (NovaCompute) – یک سرویس پردازش ابری که از پردازنده‌های ZetaCore X200 استفاده می‌کند و برای مدل‌های یادگیری ماشین سنگین بهینه‌سازی شده است.  \n",
    "3. نواکانکت (NovaConnect) – یک پلتفرم شبکه خصوصی ابری (VPC) که به شرکت‌ها امکان ایجاد زیرشبکه‌های ایزوله با IP ثابت خصوصی را می‌دهد.  \n",
    "'''\n",
    "\n",
    "\n",
    "context2 = '''\n",
    "نواکلود سه طرح قیمت‌گذاری ارائه می‌دهد:  \n",
    "- طرح پایه (Basic): شامل ۵۰ گیگابایت فضای ذخیره‌سازی و ۲ هسته پردازشی با هزینه‌ی ۱۵ دلار در ماه  \n",
    "- طرح حرفه‌ای (Pro): شامل ۵۰۰ گیگابایت فضای ذخیره‌سازی، ۸ هسته پردازشی و ترافیک نامحدود با هزینه‌ی ۶۰ دلار در ماه  \n",
    "- طرح سازمانی (Enterprise): شامل ۵ ترابایت فضای ذخیره‌سازی، ۳۲ هسته پردازشی، و قابلیت تنظیم شبکه خصوصی اختصاصی با هزینه‌ی ۲۰۰ دلار در ماه  \n",
    "'''\n",
    "\n",
    "\n",
    "context3 = '''\n",
    "نواکلود امنیت داده‌ها را با سه مکانیزم کلیدی تضمین می‌کند:  \n",
    "- رمزگذاری سرتاسری (E2EE) برای داده‌های ذخیره‌شده در NovaStorage  \n",
    "- احراز هویت چندمرحله‌ای (MFA) برای ورود به تمامی سرویس‌ها  \n",
    "- فایروال هوشمند که تنها IPهای تأیید‌شده را به شبکه NovaConnect متصل می‌کند  \n",
    "'''\n",
    "\n",
    "\n",
    "\n",
    "context4  ='''\n",
    "در سه ماه گذشته، NovaCompute در ۹۸.۹٪ مواقع بدون اختلال کار کرده است، اما یک قطعی ۲ ساعته در تاریخ ۱۵ فوریه ۲۰۲۴ به دلیل بروزرسانی سخت‌افزاری رخ داده است. در همین مدت، NovaStorage بدون هیچ اختلالی فعال بوده است.  \n",
    "'''"
   ]
  },
  {
   "cell_type": "code",
   "execution_count": 4,
   "metadata": {},
   "outputs": [],
   "source": [
    "chunks = [context1,context2,context3,context4]"
   ]
  },
  {
   "cell_type": "code",
   "execution_count": 5,
   "metadata": {},
   "outputs": [],
   "source": [
    "# Load model from path\n",
    "# 'all-MiniLM-L6-v2'\n",
    "embedding_model_name = 'all-MiniLM-L6-v2'\n",
    "embedding_model_path = f\"./models/{embedding_model_name}\"\n",
    "embedding_model = SentenceTransformer(embedding_model_path)\n",
    "sentence_transformer_ef = embedding_functions.SentenceTransformerEmbeddingFunction(\n",
    "    model_name=embedding_model_name\n",
    ")\n"
   ]
  },
  {
   "cell_type": "code",
   "execution_count": 10,
   "metadata": {},
   "outputs": [],
   "source": [
    "# Initialize ChromaDB client\n",
    "client = chromadb.PersistentClient(path=\"./chromadb\")\n",
    "\n",
    "# Delete the collection if needed\n",
    "# client.delete_collection(\"endpoint_debugging\")\n",
    "# Create a collection for debugging\n",
    "collection = client.get_or_create_collection(\n",
    "                    name = \"endpoint_debugging\",\n",
    "                    metadata={\"hnsw:space\": \"cosine\"},\n",
    "                    embedding_function=sentence_transformer_ef\n",
    "            )"
   ]
  },
  {
   "cell_type": "code",
   "execution_count": 11,
   "metadata": {},
   "outputs": [],
   "source": [
    "embeddings = embedding_model.encode(chunks)\n",
    "\n",
    "collection.add(\n",
    "    embeddings=embeddings,\n",
    "    documents=chunks,\n",
    "    ids= [str(i) for i in range(len(chunks))]\n",
    ")"
   ]
  },
  {
   "cell_type": "code",
   "execution_count": 12,
   "metadata": {},
   "outputs": [],
   "source": [
    "# Query ChromaDB\n",
    "number_of_results = 1\n",
    "\n",
    "def query_chromadb(user_query):\n",
    "    query_embedding = embedding_model.encode([user_query])\n",
    "    results = collection.query(\n",
    "        query_embeddings=query_embedding,\n",
    "        n_results=number_of_results\n",
    "    )\n",
    "    print(f'distances: {results[\"distances\"][0]}')\n",
    "    return results[\"documents\"][0] if results[\"documents\"] else [\"No relevant information found.\"]  # Top 3 relevant sentences\n"
   ]
  },
  {
   "cell_type": "code",
   "execution_count": 13,
   "metadata": {},
   "outputs": [],
   "source": [
    "# questions1 = '''\n",
    "# کدام سرویس نواکلود برای ذخیره‌سازی ابری استفاده می‌شود؟  \n",
    "# پردازنده‌ی استفاده‌شده در NovaCompute چیست؟  \n",
    "# آیا NovaConnect امکان داشتن IP ثابت را فراهم می‌کند؟  \n",
    "# '''\n",
    "\n",
    "# questions2 = '''\n",
    "# در طرح Pro چند هسته پردازشی ارائه می‌شود؟  \n",
    "# کدام طرح قابلیت تنظیم شبکه خصوصی دارد؟  \n",
    "# هزینه‌ی ماهانه‌ی طرح پایه چقدر است؟  \n",
    "# '''\n",
    "\n",
    "# questions3 = '''\n",
    "# کدام سرویس نواکلود از رمزگذاری سرتاسری پشتیبانی می‌کند؟  \n",
    "# آیا احراز هویت چندمرحله‌ای (MFA) در نواکلود اجباری است؟  \n",
    "# چگونه NovaConnect امنیت دسترسی به شبکه را تضمین می‌کند؟  \n",
    "# '''\n",
    "\n",
    "# questions4 = '''\n",
    "# چند درصد از زمان، NovaCompute در سه ماه گذشته فعال بوده است؟  \n",
    "# آخرین قطعی NovaCompute در چه تاریخی رخ داده و چه مدت طول کشیده است؟  \n",
    "# کدام سرویس در سه ماه گذشته هیچ قطعی نداشته است؟  \n",
    "# '''"
   ]
  },
  {
   "cell_type": "code",
   "execution_count": 14,
   "metadata": {},
   "outputs": [
    {
     "name": "stdout",
     "output_type": "stream",
     "text": [
      "distances: [0.4030753960556114]\n"
     ]
    },
    {
     "data": {
      "text/plain": [
       "['\\nنواکلود امنیت داده\\u200cها را با سه مکانیزم کلیدی تضمین می\\u200cکند:  \\n- رمزگذاری سرتاسری (E2EE) برای داده\\u200cهای ذخیره\\u200cشده در NovaStorage  \\n- احراز هویت چندمرحله\\u200cای (MFA) برای ورود به تمامی سرویس\\u200cها  \\n- فایروال هوشمند که تنها IPهای تأیید\\u200cشده را به شبکه NovaConnect متصل می\\u200cکند  \\n']"
      ]
     },
     "execution_count": 14,
     "metadata": {},
     "output_type": "execute_result"
    }
   ],
   "source": [
    "question_example1 = 'کدام سرویس نواکلود برای ذخیره‌سازی ابری استفاده می‌شود؟.'\n",
    "query_chromadb(question_example1)"
   ]
  },
  {
   "cell_type": "code",
   "execution_count": 15,
   "metadata": {},
   "outputs": [
    {
     "name": "stdout",
     "output_type": "stream",
     "text": [
      "distances: [0.5577748587431057]\n"
     ]
    },
    {
     "data": {
      "text/plain": [
       "['\\nدر سه ماه گذشته، NovaCompute در ۹۸.۹٪ مواقع بدون اختلال کار کرده است، اما یک قطعی ۲ ساعته در تاریخ ۱۵ فوریه ۲۰۲۴ به دلیل بروزرسانی سخت\\u200cافزاری رخ داده است. در همین مدت، NovaStorage بدون هیچ اختلالی فعال بوده است.  \\n']"
      ]
     },
     "execution_count": 15,
     "metadata": {},
     "output_type": "execute_result"
    }
   ],
   "source": [
    "question_example2 = 'در طرح Pro چند هسته پردازشی ارائه می‌شود؟'\n",
    "query_chromadb(question_example2)\n",
    "# TODO: Test other embedding models"
   ]
  },
  {
   "cell_type": "code",
   "execution_count": 16,
   "metadata": {},
   "outputs": [],
   "source": [
    "question_example1_follow_up = 'میشه بیشتر راجع به این سرویس توضیح بدی؟'"
   ]
  },
  {
   "cell_type": "code",
   "execution_count": 17,
   "metadata": {},
   "outputs": [],
   "source": [
    "model_path = './models/Dorna-Llama3-8B-Instruct-GGUF-Q8/dorna-llama3-8b-instruct.Q8_0.gguf'\n",
    "\n",
    "llm = Llama(\n",
    "      model_path=model_path,\n",
    "      chat_format=\"llama-3\",\n",
    "      n_gpu_layers=-1,\n",
    "      n_ctx=2048,\n",
    "      verbose = False\n",
    ")\n"
   ]
  },
  {
   "cell_type": "code",
   "execution_count": 18,
   "metadata": {},
   "outputs": [],
   "source": [
    "# TODO: consider cosine similarity to be returned and use threshold to avoid retrieving irrelevent documents"
   ]
  },
  {
   "cell_type": "code",
   "execution_count": 19,
   "metadata": {},
   "outputs": [],
   "source": [
    "TEMPLATE = '''\n",
    "تاریخچه مکالمات:\n",
    "{history}\n",
    "\n",
    "دانش پایه:\n",
    "{context}\n",
    "\n",
    "سوال کاربر:\n",
    "{prompt}\n",
    "'''"
   ]
  },
  {
   "cell_type": "code",
   "execution_count": null,
   "metadata": {},
   "outputs": [],
   "source": []
  },
  {
   "cell_type": "code",
   "execution_count": 20,
   "metadata": {},
   "outputs": [],
   "source": [
    "def retriever(PROMPT):\n",
    "    retrieved_docs = query_chromadb(PROMPT)\n",
    "    CONTEXT = \"\\n\".join(retrieved_docs)\n",
    "    # print(f\"Retrieved docs: {CONTEXT}\",\"-----\")\n",
    "    return CONTEXT"
   ]
  },
  {
   "cell_type": "code",
   "execution_count": 21,
   "metadata": {},
   "outputs": [],
   "source": [
    "def generator(model_input): # , endpoint_name\n",
    "    \n",
    "    messages = [\n",
    "    {\"role\": \"system\", \"content\": \"تو یک دستیار متخصص  و پشتیبانی فنی وضعیت سرویس ها هستی که با توجه به دانش پایه، به کاربر پاسخ کمک کننده میدی\"},\n",
    "    {\"role\": \"user\", \"content\": f\"{model_input}\"},\n",
    "    ]   \n",
    "    \n",
    "    full_result = llm.create_chat_completion(\n",
    "    messages = messages,\n",
    "    top_p=0.85,\n",
    "    temperature=0.1\n",
    "    )\n",
    "    response = full_result['choices'][0]['message']['content']\n",
    "    \n",
    "    return response\n"
   ]
  },
  {
   "cell_type": "code",
   "execution_count": 22,
   "metadata": {},
   "outputs": [],
   "source": [
    "conversation_history = []\n",
    "def chat(PROMPT):\n",
    "    CONTEXT = retriever(PROMPT)\n",
    "\n",
    "    HISTORY = \"\\n\".join(conversation_history)\n",
    "\n",
    "    model_input = TEMPLATE.format(history=HISTORY,context=CONTEXT, prompt=PROMPT)\n",
    "\n",
    "    response = generator(model_input)\n",
    "\n",
    "    conversation_history.append(f\"سوال کاربر: {PROMPT}\")\n",
    "    conversation_history.append(f\"پاسخ کمک کننده: {response}\")    \n",
    "\n",
    "    return response\n"
   ]
  },
  {
   "cell_type": "code",
   "execution_count": 40,
   "metadata": {},
   "outputs": [],
   "source": [
    "# TODO: dynamic delay should be fine-tuned (random.uniform(0.02, 0.08))"
   ]
  },
  {
   "cell_type": "code",
   "execution_count": 35,
   "metadata": {},
   "outputs": [],
   "source": [
    "def stream_print(text):\n",
    "    for char in text:\n",
    "        sys.stdout.write(char)\n",
    "        sys.stdout.flush()\n",
    "        \n",
    "        # Dynamic delay\n",
    "        # time.sleep(random.uniform(0.02, 0.08))  # Adjust range for a natural effect\n",
    "        time.sleep(random.uniform(0.02, 0.08))\n",
    "    print()  # Move to the next line after completion"
   ]
  },
  {
   "cell_type": "code",
   "execution_count": null,
   "metadata": {},
   "outputs": [
    {
     "name": "stdout",
     "output_type": "stream",
     "text": [
      "کدام سرویس نواکلود برای ذخیره‌سازی ابری استفاده می‌شود؟.\n",
      "distances: [0.4030753960556114]\n",
      "بر اساس دانش پایه، سرویس NovaStorage برای ذخیره‌سازی ابری استفاده می‌شود. این سرویس با استفاده از رمزگذاری سرتاسری (E2EE) برای داده‌های ذخیره‌شده تضمین می‌کند که امنیت داده‌ها حفظ شود.\n",
      "---\n",
      "all done at 11.09956407546997 seconds\n"
     ]
    }
   ],
   "source": [
    "# Stream\n",
    "print(question_example1)\n",
    "start = time.time()\n",
    "conversation_history = []\n",
    "response = chat(question_example1)\n",
    "stream_print(response)\n",
    "end = time.time()\n",
    "print('---\\nall done at',end - start,'seconds')"
   ]
  },
  {
   "cell_type": "code",
   "execution_count": 38,
   "metadata": {},
   "outputs": [
    {
     "name": "stdout",
     "output_type": "stream",
     "text": [
      "کدام سرویس نواکلود برای ذخیره‌سازی ابری استفاده می‌شود؟.\n",
      "distances: [0.4030753960556114]\n",
      "بر اساس دانش پایه، سرویس NovaStorage برای ذخیره‌سازی ابری استفاده می‌شود. این سرویس با استفاده از رمزگذاری سرتاسری (E2EE) برای داده‌های ذخیره‌شده تضمین می‌کند که امنیت داده‌ها حفظ شود.\n",
      "---\n",
      "all done at 1.640636682510376 seconds\n"
     ]
    }
   ],
   "source": [
    "# Non-Stream\n",
    "print(question_example1)\n",
    "start = time.time()\n",
    "conversation_history = []\n",
    "response = chat(question_example1)\n",
    "print(response)\n",
    "end = time.time()\n",
    "print('---\\nall done at',end - start,'seconds')"
   ]
  },
  {
   "cell_type": "code",
   "execution_count": 39,
   "metadata": {},
   "outputs": [
    {
     "name": "stdout",
     "output_type": "stream",
     "text": [
      "میشه بیشتر راجع به این سرویس توضیح بدی؟\n",
      "distances: [0.39181215855848395]\n",
      "با خوشحالی! به عنوان یک دستیار متخصص و پشتیبانی فنی، خوشحالم که می‌توانم به شما در مورد سرویس NovaStorage و امنیت داده‌ها در نواکلود توضیح بدهم.\n",
      "\n",
      "نواستورج (NovaStorage) یک سرویس ذخیره‌سازی ابری است که توسط نواکلود ارائه می‌شود. این سرویس با استفاده از رمزگذاری سرتاسری (E2EE) برای داده‌های ذخیره‌شده تضمین می‌کند که امنیت داده‌ها حفظ شود. این بدان معناست که حتی در صورت دسترسی به داده‌ها توسط افراد ناامن، داده‌ها به دلیل رمزگذاری، قابل خواندن و استفاده نخواهند بود.\n",
      "\n",
      "یکی از مزایای استفاده از NovaStorage، امنیت داده‌ها در طول انتقال و ذخیره است. این بدان معناست که حتی در صورت دسترسی به داده‌ها توسط افراد ناامن در طول انتقال یا ذخیره، داده‌ها به دلیل رمزگذاری، قابل خواندن و استفاده نخواهند بود.\n",
      "\n",
      "علاوه بر رمزگذاری سرتاسری، نواستورج همچنین از فایروال هوشمند استفاده می‌کند که تنها IPهای تأیید‌شده را به شبکه NovaConnect متصل می‌کند. این بدان معناست که تنها افرادی که دارای دسترسی مجاز هستند، می‌توانند به شبکه متصل شوند و به داده‌ها دسترسی داشته باشند.\n",
      "\n",
      "به طور کلی، نواستورج یک سرویس ذخیره‌سازی ابری ایمن و قابل اعتماد است که امنیت داده‌ها را تضمین می‌کند. این بدان معناست که کاربران می‌توانند با اطمینان کامل، داده‌های خود را در این سرویس ذخیره کنند و از امنیت آنها اطمینان داشته باشند.\n"
     ]
    }
   ],
   "source": [
    "print(question_example1_follow_up)\n",
    "# conversation_history = []\n",
    "response = chat(question_example1_follow_up)\n",
    "stream_print(response)"
   ]
  },
  {
   "cell_type": "code",
   "execution_count": 41,
   "metadata": {},
   "outputs": [
    {
     "name": "stdout",
     "output_type": "stream",
     "text": [
      "در طرح Pro چند هسته پردازشی ارائه می‌شود؟\n",
      "distances: [0.5577748587431057]\n",
      "با توجه به اطلاعات ارائه شده، می‌توان به کاربر پاسخ داد:\n",
      "\n",
      "\"در طرح Pro، NovaCompute 8 هسته پردازشی ارائه می‌کند. این تعداد هسته پردازشی به کاربران اجازه می‌دهد تا به طور موثرتر از منابع محاسباتی استفاده کنند و کارهای پیچیده را با سرعت و کارایی بیشتری انجام دهند.\"\n"
     ]
    }
   ],
   "source": [
    "print(question_example2)\n",
    "conversation_history = []\n",
    "response = chat(question_example2)\n",
    "stream_print(response)"
   ]
  }
 ],
 "metadata": {
  "kernelspec": {
   "display_name": "venv",
   "language": "python",
   "name": "python3"
  },
  "language_info": {
   "codemirror_mode": {
    "name": "ipython",
    "version": 3
   },
   "file_extension": ".py",
   "mimetype": "text/x-python",
   "name": "python",
   "nbconvert_exporter": "python",
   "pygments_lexer": "ipython3",
   "version": "3.12.3"
  }
 },
 "nbformat": 4,
 "nbformat_minor": 4
}
