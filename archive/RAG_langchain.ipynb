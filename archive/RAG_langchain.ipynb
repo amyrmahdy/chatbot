{
 "cells": [
  {
   "cell_type": "code",
   "execution_count": null,
   "id": "67d10127",
   "metadata": {},
   "outputs": [],
   "source": [
    "from langchain_community.llms import LlamaCpp  # any HF/gguf model\n",
    "\n",
    "LLM_MODEL_PATH  = \"./models/gemma-3-4b-it.Q2_K/gemma-3-4b-it.Q2_K.gguf\"\n",
    "\n",
    "llm = LlamaCpp(\n",
    "    model_path=  LLM_MODEL_PATH,\n",
    "    temperature=0.3,\n",
    ")                # ← returns an LLM object\n",
    "\n",
    "# print(llm.invoke(\"Explain LangChain in one tweet\"))\n"
   ]
  },
  {
   "cell_type": "code",
   "execution_count": null,
   "id": "089bcb60",
   "metadata": {},
   "outputs": [],
   "source": [
    "from langchain_core.prompts import PromptTemplate\n",
    "from langchain.chains import LLMChain\n",
    "\n",
    "tmpl = PromptTemplate(\n",
    "    template=\"You are a helpful tutor. Explain {topic} in simple terms.\",\n",
    "    input_variables=[\"topic\"],\n",
    ")\n",
    "\n",
    "chain = LLMChain(prompt=tmpl, llm=llm)\n",
    "print(chain.invoke({\"topic\": \"vector databases\"}))\n"
   ]
  },
  {
   "cell_type": "code",
   "execution_count": null,
   "id": "c947921f",
   "metadata": {},
   "outputs": [],
   "source": [
    "from langchain.chains import SequentialChain\n",
    "\n",
    "research = PromptTemplate.from_template(\"List 3 key facts about {topic}.\")\n",
    "tweet    = PromptTemplate.from_template(\"Turn this into a tweet:\\n{facts}\")\n",
    "\n",
    "chain1 = LLMChain(llm=llm, prompt=research, output_key=\"facts\")\n",
    "chain2 = LLMChain(llm=llm, prompt=tweet,    output_key=\"tweet\")\n",
    "\n",
    "pipeline = SequentialChain(chains=[chain1, chain2],\n",
    "                           input_variables=[\"topic\"],\n",
    "                           output_variables=[\"tweet\"])\n",
    "\n",
    "print(pipeline.invoke({\"topic\": \"LangChain\"}))\n"
   ]
  },
  {
   "cell_type": "code",
   "execution_count": null,
   "id": "c06793ed",
   "metadata": {},
   "outputs": [],
   "source": [
    "from langchain.memory import ConversationBufferMemory\n",
    "from langchain.chains import ConversationChain\n",
    "\n",
    "memory = ConversationBufferMemory()\n",
    "chat   = ConversationChain(llm=llm, memory=memory)\n",
    "\n",
    "chat.invoke(\"Hi!\")            # greet\n",
    "chat.invoke(\"What did I just say?\")  # model sees previous turn"
   ]
  },
  {
   "cell_type": "code",
   "execution_count": null,
   "id": "600123b8",
   "metadata": {},
   "outputs": [],
   "source": [
    "from langchain_community.document_loaders import DirectoryLoader\n",
    "from langchain_community.vectorstores import FAISS\n",
    "from langchain.chains import RetrievalQA\n",
    "from langchain_community.embeddings import SentenceTransformerEmbeddings\n",
    "\n",
    "\n",
    "loader = DirectoryLoader(\n",
    "    path=\"docs\",                     # folder name\n",
    "    glob=\"**/*.md\",                  # match all .md recursively\n",
    "    show_progress=True,              # optional\n",
    ")\n",
    "docs = loader.load()\n",
    "\n",
    "# 2. Embed + index\n",
    "\n",
    "embeddings = SentenceTransformerEmbeddings(\n",
    "    model_name=\"./models/all-MiniLM-L6-v2\",   # local path or HF name\n",
    "    model_kwargs={\"device\": \"cpu\"}            # \"cuda\" if your GPU is ready\n",
    ")\n",
    "vectordb = FAISS.from_documents(docs, embeddings)   # ← now works\n",
    "\n",
    "# 3. Ask questions\n",
    "retriever = vectordb.as_retriever( search_k=4)\n",
    "qa = RetrievalQA.from_chain_type(llm=llm,\n",
    "                                 retriever=retriever,\n",
    "                                 chain_type=\"stuff\")  # or “map_reduce”\n",
    "\n",
    "print(qa.invoke({\"query\": \"What is our password policy?\"}))\n"
   ]
  },
  {
   "cell_type": "code",
   "execution_count": null,
   "id": "77ef9ecf",
   "metadata": {},
   "outputs": [],
   "source": [
    "from langchain.tools import Tool\n",
    "import requests, bs4, re\n",
    "\n",
    "def web_search(q: str) -> str:        # micro-tool\n",
    "    return requests.get(f\"https://duckduckgo.com/html/?q={q}\", timeout=10).text[:4000]\n",
    "\n",
    "search_tool = Tool.from_function(\n",
    "    name=\"duck_search\",\n",
    "    description=\"search the web\",\n",
    "    func=web_search,\n",
    ")\n",
    "\n",
    "from langchain.agents import initialize_agent, AgentType\n",
    "\n",
    "agent = initialize_agent(\n",
    "    tools=[search_tool],\n",
    "    llm=llm,\n",
    "    agent=AgentType.ZERO_SHOT_REACT_DESCRIPTION,\n",
    "    verbose=True,\n",
    ")\n",
    "\n",
    "agent.invoke(\"LangChain interrupt 2025 conference in one sentence\")\n"
   ]
  }
 ],
 "metadata": {
  "kernelspec": {
   "display_name": "venv",
   "language": "python",
   "name": "python3"
  },
  "language_info": {
   "codemirror_mode": {
    "name": "ipython",
    "version": 3
   },
   "file_extension": ".py",
   "mimetype": "text/x-python",
   "name": "python",
   "nbconvert_exporter": "python",
   "pygments_lexer": "ipython3",
   "version": "3.12.3"
  }
 },
 "nbformat": 4,
 "nbformat_minor": 5
}
